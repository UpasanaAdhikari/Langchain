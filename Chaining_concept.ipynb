{
 "cells": [
  {
   "cell_type": "markdown",
   "metadata": {},
   "source": [
    "# Simple Chain "
   ]
  },
  {
   "cell_type": "code",
   "execution_count": 8,
   "metadata": {},
   "outputs": [],
   "source": [
    "from langchain_google_genai import ChatGoogleGenerativeAI\n",
    "from dotenv import load_dotenv\n",
    "from langchain_core.prompts import PromptTemplate\n",
    "from langchain_core.output_parsers import StrOutputParser\n",
    "import os"
   ]
  },
  {
   "cell_type": "code",
   "execution_count": 26,
   "metadata": {},
   "outputs": [],
   "source": [
    "load_dotenv()\n",
    "API_KEY=os.getenv(\"API_KEY\")\n",
    "api=os.getenv('mapi')"
   ]
  },
  {
   "cell_type": "code",
   "execution_count": 5,
   "metadata": {},
   "outputs": [],
   "source": [
    "prompt=PromptTemplate(\n",
    "    template=\"Generate 5 intresting fact about topic {topic}\",\n",
    "    input_variables=['topic']\n",
    "\n",
    ")"
   ]
  },
  {
   "cell_type": "code",
   "execution_count": 11,
   "metadata": {},
   "outputs": [],
   "source": [
    "llm = ChatGoogleGenerativeAI(\n",
    "    model =\"gemini-2.5-flash\",\n",
    "    google_api_key = API_KEY\n",
    ")\n",
    "parser=StrOutputParser() # parser takes output of llm and turns to sturctured format\n",
    "# StrOutputParser() returns model output as 'string'\n",
    "chain = prompt | llm | parser"
   ]
  },
  {
   "cell_type": "code",
   "execution_count": 13,
   "metadata": {},
   "outputs": [],
   "source": [
    "result=chain.invoke({\"topic\":\"AI\"})"
   ]
  },
  {
   "cell_type": "code",
   "execution_count": 14,
   "metadata": {},
   "outputs": [
    {
     "name": "stdout",
     "output_type": "stream",
     "text": [
      "Here are 5 interesting facts about Artificial Intelligence:\n",
      "\n",
      "1.  **AI's Name Was Coined in 1956:** The term \"Artificial Intelligence\" was first coined by computer scientist John McCarthy at the Dartmouth Conference in 1956. This landmark event is often considered the birth of AI as a field of study, bringing together researchers to discuss the possibility of machines simulating human intelligence.\n",
      "\n",
      "2.  **You Interact with AI Daily (Often Without Realizing It):** From the personalized recommendations on Netflix and Spotify, to the spam filters in your email, the voice assistants on your phone (Siri, Alexa, Google Assistant), and even the navigation apps optimizing your route – AI is constantly working behind the scenes to make our digital lives more efficient and tailored.\n",
      "\n",
      "3.  **Current AI is \"Narrow AI\":** Despite sci-fi portrayals, today's AI is primarily \"narrow AI\" or \"weak AI.\" This means it's designed to perform specific tasks extremely well (like playing chess, recognizing faces, or translating languages) but lacks general human-like intelligence, common sense, or the ability to apply learning across different domains. Artificial General Intelligence (AGI), which would possess human-level cognitive abilities, is still a theoretical concept and a distant goal.\n",
      "\n",
      "4.  **AI Can \"Hallucinate\":** Large Language Models (LLMs) and other generative AI can sometimes produce outputs that are factually incorrect, nonsensical, or completely fabricated, yet presented confidently. This phenomenon is often referred to as \"hallucination,\" and it highlights that these models don't \"understand\" information in the human sense, but rather predict the most probable sequence of words or data based on their training.\n",
      "\n",
      "5.  **AI Has Won Against Humans in Complex Games:** AI has repeatedly demonstrated its superior computational power and strategic capabilities by defeating human champions in highly complex games. Notable examples include IBM's Deep Blue beating chess grandmaster Garry Kasparov in 1997, Google DeepMind's AlphaGo defeating Go world champion Lee Sedol in 2016, and more recently, AIs excelling in games like StarCraft II and Dota 2, which require real-time strategy, incomplete information, and complex decision-making.\n"
     ]
    }
   ],
   "source": [
    "print(result)"
   ]
  },
  {
   "cell_type": "code",
   "execution_count": null,
   "metadata": {},
   "outputs": [
    {
     "name": "stdout",
     "output_type": "stream",
     "text": [
      "      +-------------+      \n",
      "      | PromptInput |      \n",
      "      +-------------+      \n",
      "             *             \n",
      "             *             \n",
      "             *             \n",
      "    +----------------+     \n",
      "    | PromptTemplate |     \n",
      "    +----------------+     \n",
      "             *             \n",
      "             *             \n",
      "             *             \n",
      "+------------------------+ \n",
      "| ChatGoogleGenerativeAI | \n",
      "+------------------------+ \n",
      "             *             \n",
      "             *             \n",
      "             *             \n",
      "    +-----------------+    \n",
      "    | StrOutputParser |    \n",
      "    +-----------------+    \n",
      "             *             \n",
      "             *             \n",
      "             *             \n",
      "+-----------------------+  \n",
      "| StrOutputParserOutput |  \n",
      "+-----------------------+  \n"
     ]
    }
   ],
   "source": [
    "chain.get_graph().print_ascii()"
   ]
  },
  {
   "cell_type": "markdown",
   "metadata": {},
   "source": [
    "\n",
    "### Flow of `prompt | llm | parser`\n",
    "\n",
    "1. **`prompt`**  \n",
    "   - Provides the input text or question.  \n",
    "   - Example: `\"Summarize this article in simple language.\"`  \n",
    "\n",
    "2. **`llm = ChatGoogleGenerativeAI(...)`**  \n",
    "   - Language model object (Gemini 2.5).  \n",
    "   - Takes the prompt and **generates a response**.  \n",
    "\n",
    "3. **`parser = StrOutputParser()`**  \n",
    "   - Takes the output from the model and **returns it as a plain string**.  \n",
    "\n",
    "4. **`chain = prompt | llm | parser`**  \n",
    "   - Connects all three steps.  \n",
    "   - Input → LLM → Parser → Final output.  \n",
    "\n",
    "-----------------------------------------------------------\n",
    "\n",
    "\n"
   ]
  },
  {
   "cell_type": "markdown",
   "metadata": {},
   "source": []
  },
  {
   "cell_type": "markdown",
   "metadata": {},
   "source": [
    "# Sequential chain"
   ]
  },
  {
   "cell_type": "code",
   "execution_count": 20,
   "metadata": {},
   "outputs": [],
   "source": [
    "seqprompt1=PromptTemplate(\n",
    "    template=\"Generate a detailed report on {topic}\",\n",
    "    input_variables=['topic']\n",
    ")"
   ]
  },
  {
   "cell_type": "code",
   "execution_count": 21,
   "metadata": {},
   "outputs": [],
   "source": [
    "seqprompt2=PromptTemplate(\n",
    "    template=\"Generate 5 point summary from the following text {text} \",\n",
    "    input_variables=['text']\n",
    ")"
   ]
  },
  {
   "cell_type": "code",
   "execution_count": 22,
   "metadata": {},
   "outputs": [],
   "source": [
    "chain=seqprompt1 | llm | parser | seqprompt2 | llm |parser"
   ]
  },
  {
   "cell_type": "code",
   "execution_count": 23,
   "metadata": {},
   "outputs": [],
   "source": [
    "resultseq=chain.invoke({\"topic\":\"Art\"})"
   ]
  },
  {
   "cell_type": "code",
   "execution_count": 24,
   "metadata": {},
   "outputs": [
    {
     "name": "stdout",
     "output_type": "stream",
     "text": [
      "Here is a 5-point summary of the detailed report on Art:\n",
      "\n",
      "1.  **Defining Art:** The report emphasizes that \"Art\" is a complex and elusive concept with no single universal definition, largely due to its subjective nature, though it commonly involves creativity, expression, communication, and aesthetic appeal.\n",
      "2.  **Historical Evolution:** It traces art's extensive historical trajectory from prehistoric expressions through ancient, medieval, renaissance, and modern movements, highlighting a continuous narrative of innovation, adaptation, and reflection of human civilization.\n",
      "3.  **Diverse Forms:** Art manifests in myriad forms and disciplines, broadly categorized into visual arts (e.g., painting, sculpture, digital art), performing arts (e.g., music, dance, theatre), literary arts, applied arts & design, and new media, showcasing its vast manifestations.\n",
      "4.  **Multifaceted Functions:** Art serves a wide range of purposes within societies, including providing aesthetic pleasure, facilitating communication, acting as a cultural and historical record, offering social and political commentary, and holding spiritual, therapeutic, and economic value.\n",
      "5.  **Contemporary Dynamics & Debates:** The report discusses key theoretical debates (e.g., beauty vs. concept, originality) and highlights the dynamic contemporary art landscape, characterized by globalization, technological integration, interdisciplinarity, and a growing engagement with diversity and social consciousness.\n"
     ]
    }
   ],
   "source": [
    "print(resultseq)"
   ]
  },
  {
   "cell_type": "code",
   "execution_count": 25,
   "metadata": {},
   "outputs": [
    {
     "name": "stdout",
     "output_type": "stream",
     "text": [
      "      +-------------+      \n",
      "      | PromptInput |      \n",
      "      +-------------+      \n",
      "             *             \n",
      "             *             \n",
      "             *             \n",
      "    +----------------+     \n",
      "    | PromptTemplate |     \n",
      "    +----------------+     \n",
      "             *             \n",
      "             *             \n",
      "             *             \n",
      "+------------------------+ \n",
      "| ChatGoogleGenerativeAI | \n",
      "+------------------------+ \n",
      "             *             \n",
      "             *             \n",
      "             *             \n",
      "    +-----------------+    \n",
      "    | StrOutputParser |    \n",
      "    +-----------------+    \n",
      "             *             \n",
      "             *             \n",
      "             *             \n",
      "+-----------------------+  \n",
      "| StrOutputParserOutput |  \n",
      "+-----------------------+  \n",
      "             *             \n",
      "             *             \n",
      "             *             \n",
      "    +----------------+     \n",
      "    | PromptTemplate |     \n",
      "    +----------------+     \n",
      "             *             \n",
      "             *             \n",
      "             *             \n",
      "+------------------------+ \n",
      "| ChatGoogleGenerativeAI | \n",
      "+------------------------+ \n",
      "             *             \n",
      "             *             \n",
      "             *             \n",
      "    +-----------------+    \n",
      "    | StrOutputParser |    \n",
      "    +-----------------+    \n",
      "             *             \n",
      "             *             \n",
      "             *             \n",
      "+-----------------------+  \n",
      "| StrOutputParserOutput |  \n",
      "+-----------------------+  \n"
     ]
    }
   ],
   "source": [
    "chain.get_graph().print_ascii()"
   ]
  },
  {
   "cell_type": "markdown",
   "metadata": {},
   "source": [
    "# Parallel Chain"
   ]
  },
  {
   "cell_type": "code",
   "execution_count": 27,
   "metadata": {},
   "outputs": [],
   "source": [
    "from langchain_mistralai.chat_models import ChatMistralAI\n",
    "\n",
    "llm1 = ChatGoogleGenerativeAI(\n",
    "    model =\"gemini-2.5-flash\",\n",
    "    google_api_key = API_KEY\n",
    ")\n",
    "llm2=ChatMistralAI(\n",
    "    model=\"mistral-small-latest\",  \n",
    "    mistral_api_key=api,\n",
    ")\n"
   ]
  },
  {
   "cell_type": "code",
   "execution_count": 28,
   "metadata": {},
   "outputs": [],
   "source": [
    "prompt1=PromptTemplate(\n",
    "    template=\"Generate notes from follwing topic {topic}\",\n",
    "    input_variables=['topic']\n",
    ")\n",
    "prompt2=PromptTemplate(\n",
    "    template=\"Generate 5 quiz from the topic {topic}\",\n",
    "    input_variables=['topic']\n",
    ")\n",
    "prompt3=PromptTemplate(\n",
    "    template=\"Merge the provided quiz and note into single documents {notes}\\n {quiz}\",\n",
    "    input_variables=['notes','quiz']\n",
    ")"
   ]
  },
  {
   "cell_type": "code",
   "execution_count": 29,
   "metadata": {},
   "outputs": [],
   "source": [
    "parser=StrOutputParser()"
   ]
  },
  {
   "cell_type": "code",
   "execution_count": null,
   "metadata": {},
   "outputs": [],
   "source": [
    "from langchain.schema.runnable import RunnableParallel\n",
    "# with this we can parallely multiple chain execute "
   ]
  },
  {
   "cell_type": "code",
   "execution_count": 31,
   "metadata": {},
   "outputs": [],
   "source": [
    "parallel_chain= RunnableParallel({\n",
    "    'notes': prompt1 | llm1 | parser,\n",
    "    \"quiz\": prompt2 | llm2 | parser\n",
    "})"
   ]
  },
  {
   "cell_type": "code",
   "execution_count": null,
   "metadata": {},
   "outputs": [],
   "source": [
    "merge_chain = prompt3 | llm1 | parser "
   ]
  },
  {
   "cell_type": "code",
   "execution_count": null,
   "metadata": {},
   "outputs": [],
   "source": [
    "chain = parallel_chain | merge_chain "
   ]
  },
  {
   "cell_type": "code",
   "execution_count": 35,
   "metadata": {},
   "outputs": [],
   "source": [
    "result=chain.invoke({\"topic\":\"unemployment\"})"
   ]
  },
  {
   "cell_type": "code",
   "execution_count": 36,
   "metadata": {},
   "outputs": [
    {
     "name": "stdout",
     "output_type": "stream",
     "text": [
      "Here is the merged document, combining the comprehensive notes on Unemployment with the quiz questions for assessment.\n",
      "\n",
      "---\n",
      "\n",
      "# Unemployment: Key Concepts, Analysis, and Assessment\n",
      "\n",
      "This document provides comprehensive notes on the topic of Unemployment, structured for clarity and easy understanding, followed by a set of quiz questions to test your knowledge.\n",
      "\n",
      "---\n",
      "\n",
      "## Unemployment: Key Concepts & Analysis\n",
      "\n",
      "### I. Definition & Measurement\n",
      "\n",
      "*   **Definition:** A situation where individuals who are **able to work**, **willing to work**, and **actively seeking employment** cannot find a job.\n",
      "*   **Labor Force:** Consists of all employed and unemployed people.\n",
      "    *   **Employed:** People who work for pay (full-time or part-time) or work in their own business.\n",
      "    *   **Unemployed:** People who are not working but are available for work and have actively looked for work in the past four weeks.\n",
      "*   **Not in Labor Force:** Individuals not employed and not actively seeking work (e.g., retirees, students, stay-at-home parents, discouraged workers).\n",
      "*   **Unemployment Rate:** The percentage of the labor force that is unemployed.\n",
      "    *   **Formula:** (Number of Unemployed / Labor Force) × 100\n",
      "\n",
      "### II. Key Concepts & Types of Unemployment\n",
      "\n",
      "1.  **Full Employment:**\n",
      "    *   Does *not* mean 0% unemployment.\n",
      "    *   Refers to the level of employment where only frictional and structural unemployment exist, with no cyclical unemployment.\n",
      "    *   Often associated with the \"Natural Rate of Unemployment.\"\n",
      "\n",
      "2.  **Natural Rate of Unemployment (NRU):**\n",
      "    *   The unemployment rate that prevails when the economy is producing at its potential output.\n",
      "    *   Comprises frictional and structural unemployment.\n",
      "    *   It's the lowest sustainable unemployment rate without causing accelerating inflation.\n",
      "\n",
      "3.  **Underemployment:**\n",
      "    *   When individuals are employed in a job that is below their skill level or education.\n",
      "    *   When individuals are working part-time but desire full-time employment.\n",
      "    *   Not counted in the official unemployment rate but indicates underutilized labor resources.\n",
      "\n",
      "4.  **Discouraged Workers:**\n",
      "    *   Individuals who are available for work and want to work but have stopped looking for a job because they believe no jobs are available for them or they lack the necessary skills.\n",
      "    *   **Not counted in the labor force or as unemployed**, which can lead to an underestimation of the true unemployment problem.\n",
      "\n",
      "---\n",
      "\n",
      "#### **Types of Unemployment:**\n",
      "\n",
      "*   **1. Frictional Unemployment:**\n",
      "    *   **Definition:** Short-term unemployment that occurs when people are voluntarily between jobs, searching for their first job, or re-entering the workforce.\n",
      "    *   **Cause:** Imperfect information in the labor market, time needed for job searching and matching.\n",
      "    *   **Example:** A recent college graduate looking for their first professional job; someone quitting one job to find a better one.\n",
      "    *   **Nature:** Generally considered healthy and unavoidable in a dynamic economy.\n",
      "\n",
      "*   **2. Structural Unemployment:**\n",
      "    *   **Definition:** Long-term unemployment caused by a mismatch between the skills workers possess and the skills demanded by employers, or a mismatch between the location of jobs and the location of workers.\n",
      "    *   **Causes:** Technological advancements (automation), shifts in industry (decline of manufacturing), globalization, lack of education/training, minimum wage laws (if set too high), labor union power.\n",
      "    *   **Example:** Coal miners losing jobs due to a shift to renewable energy; factory workers replaced by robots.\n",
      "    *   **Nature:** Requires retraining, education, or relocation policies to address.\n",
      "\n",
      "*   **3. Cyclical Unemployment:**\n",
      "    *   **Definition:** Unemployment that rises and falls with the business cycle. It occurs due to a general downturn in economic activity (recession or depression).\n",
      "    *   **Cause:** Insufficient aggregate demand in the economy, leading to reduced production and layoffs.\n",
      "    *   **Example:** Workers laid off during a recession when consumer spending and business investment decline.\n",
      "    *   **Nature:** Most concerning type as it indicates an economy operating below its potential. Can be addressed by demand-side policies.\n",
      "\n",
      "*   **4. Seasonal Unemployment:**\n",
      "    *   **Definition:** Unemployment that occurs due to predictable, recurring changes in demand for labor over the year.\n",
      "    *   **Cause:** Seasonal variations in industries like agriculture, tourism, construction, or retail.\n",
      "    *   **Example:** Ski instructors unemployed in summer; construction workers during winter in cold climates.\n",
      "    *   **Nature:** Generally predictable and often accounted for in labor market planning.\n",
      "\n",
      "---\n",
      "\n",
      "### III. Causes of Unemployment (General)\n",
      "\n",
      "*   **Insufficient Aggregate Demand:** The primary cause of cyclical unemployment.\n",
      "*   **Technological Advancements:** Automation and AI can displace workers.\n",
      "*   **Globalization & Outsourcing:** Jobs moving to countries with lower labor costs.\n",
      "*   **Skills Mismatch:** Lack of relevant skills for available jobs (structural).\n",
      "*   **Labor Market Rigidities:**\n",
      "    *   **Minimum Wage Laws:** If set above the market-clearing wage, can reduce demand for low-skilled labor.\n",
      "    *   **Labor Unions:** Can push wages above equilibrium, potentially reducing employment.\n",
      "    *   **Excessive Regulations:** Can make it costly for businesses to hire and fire.\n",
      "*   **Lack of Information:** Workers and employers may not easily find each other (frictional).\n",
      "*   **Business Cycle Fluctuations:** Recessions lead to higher unemployment.\n",
      "\n",
      "### IV. Consequences of Unemployment\n",
      "\n",
      "1.  **Individual Consequences:**\n",
      "    *   **Financial Hardship:** Loss of income, inability to meet basic needs, debt accumulation.\n",
      "    *   **Psychological Distress:** Stress, anxiety, depression, loss of self-esteem, social isolation.\n",
      "    *   **Skill Depreciation:** Skills can erode over time if not used.\n",
      "    *   **Reduced Future Earnings:** Long spells of unemployment can negatively impact career progression and future wages.\n",
      "\n",
      "2.  **Economic Consequences:**\n",
      "    *   **Lost Output (GDP):** Unemployed resources mean the economy is producing below its potential. (Okun's Law: Higher unemployment means lower GDP growth).\n",
      "    *   **Reduced Tax Revenue:** Fewer people working means less income and consumption tax revenue for the government.\n",
      "    *   **Increased Government Spending:** Higher demand for unemployment benefits, welfare programs, and social services.\n",
      "    *   **Downward Pressure on Wages:** A surplus of labor can depress wages for those who are employed.\n",
      "    *   **Loss of Human Capital:** Society loses the productive potential of its workforce.\n",
      "\n",
      "3.  **Social Consequences:**\n",
      "    *   **Increased Poverty & Inequality:** Unemployment disproportionately affects vulnerable groups.\n",
      "    *   **Social Unrest & Crime:** High unemployment can lead to frustration, desperation, and social instability.\n",
      "    *   **Health Issues:** Higher rates of physical and mental health problems in communities with high unemployment.\n",
      "    *   **Erosion of Social Cohesion:** Can strain community ties and increase feelings of hopelessness.\n",
      "\n",
      "### V. Policies to Combat Unemployment\n",
      "\n",
      "1.  **Demand-Side Policies (Target Cyclical Unemployment):**\n",
      "    *   **Fiscal Policy:**\n",
      "        *   **Increased Government Spending:** On infrastructure, education, etc., creating jobs directly and indirectly.\n",
      "        *   **Tax Cuts:** Stimulate consumer spending and business investment.\n",
      "    *   **Monetary Policy (Central Bank):**\n",
      "        *   **Lower Interest Rates:** Encourages borrowing, investment, and consumer spending, stimulating economic activity.\n",
      "        *   **Quantitative Easing:** Injecting liquidity into the financial system to lower long-term rates and encourage lending.\n",
      "\n",
      "2.  **Supply-Side Policies (Target Structural & Frictional Unemployment):**\n",
      "    *   **Education & Training Programs:** Retraining programs for displaced workers, vocational training for new skills.\n",
      "    *   **Labor Market Information:** Improving job search services, online platforms, career counseling to reduce frictional unemployment.\n",
      "    *   **Subsidies:** To firms for hiring long-term unemployed or for training new employees.\n",
      "    *   **Infrastructure Investment:** Improving transportation and communication to facilitate labor mobility.\n",
      "    *   **Deregulation:** Reducing barriers to starting businesses or hiring workers (controversial).\n",
      "    *   **Reforming Unemployment Benefits:** Balancing the safety net with incentives to find work.\n",
      "\n",
      "3.  **Other Policies:**\n",
      "    *   **Active Labor Market Policies:** Job search assistance, career counseling, wage subsidies.\n",
      "    *   **Flexible Labor Markets:** Policies that make it easier for firms to adjust their workforce (e.g., less strict hiring/firing rules, though this can also reduce job security).\n",
      "\n",
      "---\n",
      "\n",
      "## Quiz Questions on Unemployment\n",
      "\n",
      "Test your understanding of the key concepts and analysis of unemployment with these questions.\n",
      "\n",
      "1.  **What is the primary cause of cyclical unemployment?**\n",
      "    a) Technological advancements\n",
      "    b) Economic recessions or downturns\n",
      "    c) Lack of job skills\n",
      "    d) Seasonal fluctuations in demand\n",
      "\n",
      "2.  **Which type of unemployment occurs when workers are temporarily laid off due to seasonal changes in demand (e.g., tourism or agriculture)?**\n",
      "    a) Structural unemployment\n",
      "    b) Frictional unemployment\n",
      "    c) Seasonal unemployment\n",
      "    d) Voluntary unemployment\n",
      "\n",
      "3.  **The official unemployment rate is calculated based on:**\n",
      "    a) The number of people receiving unemployment benefits\n",
      "    b) The number of people actively seeking work but unemployed\n",
      "    c) The number of people who have given up looking for work\n",
      "    d) The number of part-time workers\n",
      "\n",
      "4.  **Which of the following is a long-term consequence of high unemployment in an economy?**\n",
      "    a) Increased consumer spending\n",
      "    b) Higher government tax revenues\n",
      "    c) Loss of human capital (e.g., skill depreciation, brain drain)\n",
      "    d) Reduced inflation\n",
      "\n",
      "5.  **What is the term for unemployment caused by a mismatch between workers' skills and the skills demanded by employers?**\n",
      "    a) Frictional unemployment\n",
      "    b) Cyclical unemployment\n",
      "    c) Structural unemployment\n",
      "    d) Seasonal unemployment\n",
      "\n",
      "---\n",
      "\n",
      "### Quiz Answers:\n",
      "\n",
      "1.  **b) Economic recessions or downturns**\n",
      "2.  **c) Seasonal unemployment**\n",
      "3.  **b) The number of people actively seeking work but unemployed**\n",
      "4.  **c) Loss of human capital (e.g., skill depreciation, brain drain)**\n",
      "5.  **c) Structural unemployment**\n"
     ]
    }
   ],
   "source": [
    "print (result)"
   ]
  },
  {
   "cell_type": "code",
   "execution_count": 38,
   "metadata": {},
   "outputs": [],
   "source": [
    "# or can be done done to passed text like this \n",
    "text=\"\"\" Google APIs are Application Programming Interfaces developed by Google that enable communication with various Google services and facilitate their integration into other applications and services. These APIs allow developers to programmatically access and interact with data and functionalities offered by Google products.\n",
    "Key aspects of Google APIs:\n",
    "Integration with Google Services:\n",
    "They provide programmatic access to a wide range of Google services, including Search, Gmail, Google Maps, Google Drive, Google Sheets, Google Docs, YouTube, and many Google Cloud Platform services.\n",
    "Enhanced Functionality:\n",
    "Developers can leverage Google APIs to add features and functionalities to their own applications, such as embedding maps, managing documents, sending emails, or integrating with cloud computing resources.\n",
    "Developer Tools and Resources:\n",
    "Google provides various tools and resources to assist developers in using these APIs, including client libraries for different programming languages (e.g., Python, Java, JavaScript), comprehensive documentation, and the APIs Explorer for testing API methods.\n",
    "Authentication and Authorization:\n",
    "Access to most Google APIs requires proper authentication and authorization to ensure secure access to user data and resources. This often involves using API keys, OAuth 2.0, or service accounts.\n",
    "Google Cloud APIs:\n",
    "A significant subset of Google APIs falls under Google Cloud Platform, providing interfaces to services like computing, networking, storage, and machine learning, enabling the development of scalable and powerful cloud-based applications.\n",
    "\"\"\"\n",
    "result=chain.invoke({\"topic\":text})\n"
   ]
  },
  {
   "cell_type": "code",
   "execution_count": 39,
   "metadata": {},
   "outputs": [
    {
     "name": "stdout",
     "output_type": "stream",
     "text": [
      "Here is the merged document, combining the notes and the quiz on Google APIs:\n",
      "\n",
      "---\n",
      "\n",
      "## Google APIs: Application Programming Interfaces\n",
      "\n",
      "### Notes\n",
      "\n",
      "**Definition:**\n",
      "*   Developed by Google.\n",
      "*   Enable communication & integration with various Google services.\n",
      "*   Allow developers programmatic access to data & functionalities of Google products.\n",
      "\n",
      "**Key Aspects:**\n",
      "\n",
      "1.  **Integration with Google Services:**\n",
      "    *   Provide programmatic access to a wide range of services.\n",
      "    *   **Examples:** Search, Gmail, Google Maps, Google Drive, Google Sheets, Google Docs, YouTube, Google Cloud Platform (GCP) services.\n",
      "\n",
      "2.  **Enhanced Functionality:**\n",
      "    *   Developers can add features and functionalities to their own applications.\n",
      "    *   **Examples:** Embedding maps, managing documents, sending emails, integrating with cloud resources.\n",
      "\n",
      "3.  **Developer Tools & Resources:**\n",
      "    *   Google provides assistance for developers.\n",
      "    *   **Includes:**\n",
      "        *   Client libraries (e.g., Python, Java, JavaScript).\n",
      "        *   Comprehensive documentation.\n",
      "        *   APIs Explorer (for testing methods).\n",
      "\n",
      "4.  **Authentication & Authorization:**\n",
      "    *   Required for secure access to user data & resources.\n",
      "    *   **Methods often used:** API keys, OAuth 2.0, service accounts.\n",
      "\n",
      "5.  **Google Cloud APIs:**\n",
      "    *   A significant subset falls under Google Cloud Platform (GCP).\n",
      "    *   Provide interfaces to GCP services (e.g., computing, networking, storage, machine learning).\n",
      "    *   Enable development of scalable & powerful cloud-based applications.\n",
      "\n",
      "---\n",
      "\n",
      "### Quiz Questions on Google APIs\n",
      "\n",
      "1.  **What is the primary purpose of Google APIs?**\n",
      "    a) To provide a graphical user interface for Google services\n",
      "    b) To enable programmatic access and integration with Google services\n",
      "    c) To replace traditional web browsers\n",
      "    d) To store user data in local databases\n",
      "\n",
      "2.  **Which of the following is NOT a key aspect of Google APIs?**\n",
      "    a) Integration with Google services like Gmail and YouTube\n",
      "    b) Enhanced functionality for third-party applications\n",
      "    c) Direct access to user passwords without authentication\n",
      "    d) Developer tools like client libraries and documentation\n",
      "\n",
      "3.  **What authentication method is commonly used for accessing Google APIs securely?**\n",
      "    a) API keys only\n",
      "    b) OAuth 2.0\n",
      "    c) Basic HTTP authentication\n",
      "    d) Both API keys and OAuth 2.0\n",
      "\n",
      "4.  **Which Google service provides APIs for cloud computing, storage, and machine learning?**\n",
      "    a) Google Search\n",
      "    b) Google Cloud Platform (GCP)\n",
      "    c) Google Drive\n",
      "    d) Google Maps\n",
      "\n",
      "5.  **What tool does Google provide for developers to test API methods interactively?**\n",
      "    a) Google APIs Dashboard\n",
      "    b) APIs Explorer\n",
      "    c) Google Cloud Console\n",
      "    d) Google Developer Studio\n",
      "\n",
      "### Answer Key:\n",
      "1.  **b** (To enable programmatic access and integration with Google services)\n",
      "2.  **c** (Direct access to user passwords without authentication)\n",
      "3.  **d** (Both API keys and OAuth 2.0)\n",
      "4.  **b** (Google Cloud Platform (GCP))\n",
      "5.  **b** (APIs Explorer)\n"
     ]
    }
   ],
   "source": [
    "print(result)"
   ]
  },
  {
   "cell_type": "code",
   "execution_count": 40,
   "metadata": {},
   "outputs": [
    {
     "name": "stdout",
     "output_type": "stream",
     "text": [
      "                  +---------------------------+                \n",
      "                  | Parallel<notes,quiz>Input |                \n",
      "                  +---------------------------+                \n",
      "                     ****               ****                   \n",
      "                  ***                       ***                \n",
      "                **                             **              \n",
      "    +----------------+                    +----------------+   \n",
      "    | PromptTemplate |                    | PromptTemplate |   \n",
      "    +----------------+                    +----------------+   \n",
      "             *                                      *          \n",
      "             *                                      *          \n",
      "             *                                      *          \n",
      "+------------------------+                 +---------------+   \n",
      "| ChatGoogleGenerativeAI |                 | ChatMistralAI |   \n",
      "+------------------------+                 +---------------+   \n",
      "             *                                      *          \n",
      "             *                                      *          \n",
      "             *                                      *          \n",
      "    +-----------------+                   +-----------------+  \n",
      "    | StrOutputParser |                   | StrOutputParser |  \n",
      "    +-----------------+                   +-----------------+  \n",
      "                     ****               ****                   \n",
      "                         ***         ***                       \n",
      "                            **     **                          \n",
      "                 +----------------------------+                \n",
      "                 | Parallel<notes,quiz>Output |                \n",
      "                 +----------------------------+                \n",
      "                                *                              \n",
      "                                *                              \n",
      "                                *                              \n",
      "                       +----------------+                      \n",
      "                       | PromptTemplate |                      \n",
      "                       +----------------+                      \n",
      "                                *                              \n",
      "                                *                              \n",
      "                                *                              \n",
      "                   +------------------------+                  \n",
      "                   | ChatGoogleGenerativeAI |                  \n",
      "                   +------------------------+                  \n",
      "                                *                              \n",
      "                                *                              \n",
      "                                *                              \n",
      "                       +-----------------+                     \n",
      "                       | StrOutputParser |                     \n",
      "                       +-----------------+                     \n",
      "                                *                              \n",
      "                                *                              \n",
      "                                *                              \n",
      "                    +-----------------------+                  \n",
      "                    | StrOutputParserOutput |                  \n",
      "                    +-----------------------+                  \n"
     ]
    }
   ],
   "source": [
    "chain.get_graph().print_ascii()"
   ]
  },
  {
   "cell_type": "markdown",
   "metadata": {},
   "source": [
    "# Conditional Chain"
   ]
  },
  {
   "cell_type": "code",
   "execution_count": 41,
   "metadata": {},
   "outputs": [],
   "source": [
    "llm1 = ChatGoogleGenerativeAI(\n",
    "    model =\"gemini-2.5-flash\",\n",
    "    google_api_key = API_KEY\n",
    ")\n"
   ]
  },
  {
   "cell_type": "markdown",
   "metadata": {},
   "source": [
    "# 🧾 Why Use `PydanticOutputParser` in LangChain?\n",
    "\n",
    "## 1. The Problem: Unstructured LLM Output\n",
    "LLM outputs are not always consistent when asked for sentiment.  \n",
    "\n",
    "Examples:\n",
    "```text\n",
    "\"negative\"\n",
    "\"The sentiment is negative.\"\n",
    "\"NEGATIVE\"\n",
    "\"It's definitely negative sentiment.\"\n",
    "\n",
    "\n",
    "\n",
    "This is fine if a human is reading, but bad if another chain or program depends on consistent output."
   ]
  },
  {
   "cell_type": "code",
   "execution_count": 60,
   "metadata": {},
   "outputs": [],
   "source": [
    "from langchain_core.output_parsers import PydanticOutputParser\n",
    "from pydantic import BaseModel, Field\n",
    "from typing import Literal\n",
    "# these are done becoz we dont know exact ouput of llm can give The sentiment is **negative**. , or only negative or Negative ,or positive similar way so we define this to make consistance ouput of llm since our next setp depend on output\n",
    "\n",
    "class FeedBack (BaseModel):\n",
    "    sentiment : Literal['positive','negative']=Field(description =\"Give the sentiment of the feedback\")\n",
    "\n",
    "parser2=PydanticOutputParser(pydantic_object=FeedBack)\n",
    "prompt1 = PromptTemplate(\n",
    "    template=\"\"\"Classify the sentiment of following feedback text as negative or positive. \n",
    "    Feedback: {feedback}\n",
    "    {format_instruction}\"\"\",\n",
    "    input_variables=[\"feedback\"],\n",
    "    partial_variables={\"format_instruction\": parser2.get_format_instructions()}\n",
    ")\n",
    "\n"
   ]
  },
  {
   "cell_type": "code",
   "execution_count": 61,
   "metadata": {},
   "outputs": [],
   "source": [
    "classifier_chain= prompt1 | llm | parser2\n"
   ]
  },
  {
   "cell_type": "code",
   "execution_count": 62,
   "metadata": {},
   "outputs": [
    {
     "name": "stdout",
     "output_type": "stream",
     "text": [
      "sentiment='negative'\n"
     ]
    }
   ],
   "source": [
    "result=classifier_chain.invoke({\"feedback\":\"i hate bugs\"})\n",
    "print(result)"
   ]
  },
  {
   "cell_type": "code",
   "execution_count": 63,
   "metadata": {},
   "outputs": [],
   "source": [
    "from langchain.schema.runnable import RunnableBranch\n",
    "#Runnable branch allows us to use if else conditions in chains"
   ]
  },
  {
   "cell_type": "code",
   "execution_count": 64,
   "metadata": {},
   "outputs": [],
   "source": [
    "from langchain.schema.runnable import RunnableLambda\n",
    "# lambda funtion is converted to runnable so we can use as chain\n",
    "\"\"\"branch = RunnableBranch([\n",
    "    (condition1, chain1),\n",
    "    (condition2, chain2),\"\"\"\n",
    "prompt2 = PromptTemplate(\n",
    "    template=\"Write appropriate response to positive feed back {feedback}\",\n",
    "    input_variables=['feedback']\n",
    ")\n",
    "prompt3 = PromptTemplate(\n",
    "    template=\"Write appropriate response to negative feed back {feedback}\",\n",
    "    input_variables=['feedback']\n",
    ")\n",
    "branch_chain=RunnableBranch(\n",
    "    (lambda x:x.sentiment=='positive',prompt2 | llm |parser),\n",
    "    (lambda x:x .sentiment=='negative',prompt3 | llm |parser),\n",
    "    RunnableLambda(lambda x: \"Could not find sentiment\")\n",
    ")"
   ]
  },
  {
   "cell_type": "code",
   "execution_count": 65,
   "metadata": {},
   "outputs": [],
   "source": [
    "chain=classifier_chain | branch_chain"
   ]
  },
  {
   "cell_type": "code",
   "execution_count": 67,
   "metadata": {},
   "outputs": [
    {
     "name": "stdout",
     "output_type": "stream",
     "text": [
      "When responding to negative feedback, the goal is to acknowledge the customer's feelings, validate their experience, apologize sincerely, offer a solution or next step, and show that you value their input and are committed to improvement.\n",
      "\n",
      "Here's a guide to crafting an appropriate response, along with examples for different scenarios:\n",
      "\n",
      "---\n",
      "\n",
      "**Key Principles for Responding to Negative Feedback:**\n",
      "\n",
      "1.  **Acknowledge and Thank:** Start by thanking them for their feedback, even if it's negative. This shows you value their input.\n",
      "2.  **Empathize and Apologize:** Show genuine empathy for their negative experience and sincerely apologize for any inconvenience, frustration, or disappointment caused. Avoid making excuses.\n",
      "3.  **Validate Their Experience:** Let them know you understand *why* they're upset.\n",
      "4.  **Take Responsibility:** Even if it's not directly your fault, take responsibility for the overall negative experience.\n",
      "5.  **Address the Specific Issue (if possible):** If they mentioned a specific problem, acknowledge it directly.\n",
      "6.  **Offer a Solution or Next Step:** What will you do to resolve the issue? Or what steps will you take to prevent it from happening again? This is crucial.\n",
      "7.  **Invite Further Communication (if needed):** Offer to continue the conversation privately if more details are needed or if the issue is sensitive.\n",
      "8.  **Reaffirm Commitment to Quality/Improvement:** End on a note that reinforces your dedication to providing a good experience.\n",
      "\n",
      "---\n",
      "\n",
      "**General Template:**\n",
      "\n",
      "\"Dear [Customer Name/User],\n",
      "\n",
      "Thank you for taking the time to share your feedback regarding [specific issue or general experience]. We sincerely apologize that your experience with [product/service/company] did not meet your expectations, and we understand how [frustrating/disappointing/inconvenient] that must have been.\n",
      "\n",
      "This is certainly not the standard we aim for, and we truly regret the [specific problem, e.g., delay, malfunction, poor service] you encountered.\n",
      "\n",
      "[**Choose one or more of the following, tailored to the situation:**]\n",
      "*   **For a specific problem:** We are actively investigating [the issue] to understand what went wrong and prevent it from happening again.\n",
      "*   **For a general complaint:** Your feedback is invaluable to us as we continuously work to improve our [product/service/training].\n",
      "*   **For a service issue:** We're reviewing our processes and staff training to ensure this type of situation is avoided in the future.\n",
      "*   **Offering a direct solution:** We'd like to [offer a refund/replacement/discount/further assistance]. Please contact us directly at [phone number/email] or check your inbox for a direct message from us so we can resolve this for you.\n",
      "\n",
      "We are committed to providing the best possible experience for our customers, and we hope to have the opportunity to make things right.\n",
      "\n",
      "Sincerely,\n",
      "\n",
      "[Your Name/Company Name]\"\n",
      "\n",
      "---\n",
      "\n",
      "**Examples for Different Scenarios:**\n",
      "\n",
      "**1. Product/Service Bug or Malfunction:**\n",
      "\n",
      "\"Dear [User/Customer Name],\n",
      "\n",
      "Thank you for reporting the issue with [specific feature/product]. We sincerely apologize for the bug you encountered; we understand how frustrating it is when something doesn't work as expected.\n",
      "\n",
      "Our team is actively investigating this and working on a fix. We appreciate you bringing this to our attention, as your feedback helps us improve our product. We'll notify you as soon as a resolution is available.\n",
      "\n",
      "Thank you for your patience and understanding.\n",
      "\n",
      "Sincerely,\n",
      "The [Company Name] Team\"\n",
      "\n",
      "**2. Poor Customer Service Experience:**\n",
      "\n",
      "\"Dear [Customer Name],\n",
      "\n",
      "Thank you for reaching out and sharing your recent experience with our customer service. We are truly sorry to hear that you felt [unheard/frustrated/dissatisfied] and that your issue was not resolved to your satisfaction. This is certainly not the level of service we strive to provide.\n",
      "\n",
      "We take your feedback seriously and are reviewing the interaction to understand what went wrong and how we can improve our training and processes. We would like to learn more about your experience and find a way to make things right. Please contact us directly at [phone number/email] at your earliest convenience.\n",
      "\n",
      "We are committed to ensuring our customers receive excellent support, and we hope you'll give us another chance to demonstrate that.\n",
      "\n",
      "Sincerely,\n",
      "[Your Name/Company Name]\"\n",
      "\n",
      "**3. Dissatisfying Experience (e.g., restaurant, event, hotel):**\n",
      "\n",
      "\"Dear [Guest/Customer Name],\n",
      "\n",
      "Thank you for taking the time to share your feedback about your recent visit to [Restaurant/Hotel/Venue Name]. We are truly sorry to hear that your experience was [disappointing/not up to our usual standards] due to [specific issues mentioned, e.g., long wait times, cold food, noisy room].\n",
      "\n",
      "This is certainly not the impression we want to leave, and we regret that we failed to provide you with the enjoyable experience we aim for. We are addressing these concerns with our team to ensure we improve in these areas.\n",
      "\n",
      "We would appreciate the opportunity to discuss this further and hopefully make amends. Please feel free to reach out to our management team directly at [phone number/email].\n",
      "\n",
      "We hope to welcome you back and provide you with a much better experience in the future.\n",
      "\n",
      "Sincerely,\n",
      "[Manager's Name/Company Name]\"\n",
      "\n",
      "**4. General Negative Review (e.g., on social media or a review site):**\n",
      "\n",
      "\"We're so sorry to hear you had a negative experience with [Product/Service/Company]. We truly value your feedback and regret that we didn't meet your expectations. We're constantly working to improve, and your comments help us do that. If you'd be willing to share more details, please send us a direct message so we can look into this further. Thank you for bringing this to our attention.\"\n",
      "\n",
      "---\n",
      "\n",
      "Remember to choose the most appropriate tone and level of detail based on the specific feedback and the platform where it was received. Always be genuine and focused on resolving the issue and improving.\n"
     ]
    }
   ],
   "source": [
    "print(chain.invoke({\"feedback\":\"life is not so beautiful\"}))"
   ]
  },
  {
   "cell_type": "code",
   "execution_count": 68,
   "metadata": {},
   "outputs": [
    {
     "name": "stdout",
     "output_type": "stream",
     "text": [
      "      +-------------+      \n",
      "      | PromptInput |      \n",
      "      +-------------+      \n",
      "             *             \n",
      "             *             \n",
      "             *             \n",
      "    +----------------+     \n",
      "    | PromptTemplate |     \n",
      "    +----------------+     \n",
      "             *             \n",
      "             *             \n",
      "             *             \n",
      "+------------------------+ \n",
      "| ChatGoogleGenerativeAI | \n",
      "+------------------------+ \n",
      "             *             \n",
      "             *             \n",
      "             *             \n",
      " +----------------------+  \n",
      " | PydanticOutputParser |  \n",
      " +----------------------+  \n",
      "             *             \n",
      "             *             \n",
      "             *             \n",
      "        +--------+         \n",
      "        | Branch |         \n",
      "        +--------+         \n",
      "             *             \n",
      "             *             \n",
      "             *             \n",
      "     +--------------+      \n",
      "     | BranchOutput |      \n",
      "     +--------------+      \n"
     ]
    }
   ],
   "source": [
    "chain.get_graph().print_ascii()"
   ]
  }
 ],
 "metadata": {
  "kernelspec": {
   "display_name": "chatbot",
   "language": "python",
   "name": "python3"
  },
  "language_info": {
   "codemirror_mode": {
    "name": "ipython",
    "version": 3
   },
   "file_extension": ".py",
   "mimetype": "text/x-python",
   "name": "python",
   "nbconvert_exporter": "python",
   "pygments_lexer": "ipython3",
   "version": "3.13.5"
  }
 },
 "nbformat": 4,
 "nbformat_minor": 2
}
